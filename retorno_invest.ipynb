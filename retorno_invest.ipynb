{
 "cells": [
  {
   "cell_type": "code",
   "execution_count": 2,
   "id": "448c25c0-2634-48ab-96d9-cd63a23aee65",
   "metadata": {},
   "outputs": [
    {
     "data": {
      "text/plain": [
       "'\\nPrograma: retorno_invest\\nDescrição: Este programa calcula os retornos para investimento determinado pelo usuário\\nAutor: Filipe Eich\\nData: 27/02/2025\\nVersao: 0.0.1\\n'"
      ]
     },
     "execution_count": 2,
     "metadata": {},
     "output_type": "execute_result"
    }
   ],
   "source": [
    "\"\"\"\n",
    "Programa: retorno_invest\n",
    "Descrição: Este programa calcula os retornos para investimento determinado pelo usuário\n",
    "Autor: Filipe Eich\n",
    "Data: 27/02/2025\n",
    "Versao: 0.0.1\n",
    "\"\"\"\n"
   ]
  },
  {
   "cell_type": "code",
   "execution_count": 5,
   "id": "894fd8a0-64c7-4b54-8659-5d44615f515f",
   "metadata": {},
   "outputs": [],
   "source": [
    "#Alocaçao de memoria\n",
    "\n",
    "M=\"montante\"\n",
    "c=\"capital inicial\"\n",
    "i=\"taxa de juros em decimal\"\n",
    "t=\"prazo de investimento\"\n"
   ]
  },
  {
   "cell_type": "code",
   "execution_count": 18,
   "id": "69533df8-fc7f-49b8-b32f-92411efd25d3",
   "metadata": {
    "scrolled": true
   },
   "outputs": [
    {
     "name": "stdin",
     "output_type": "stream",
     "text": [
      "\n",
      "Olá! Vamos calcular o retorno para seu investimento?? Comece digitando qual o capital inicial - em R$:  1000\n",
      "\n",
      "Agora, me diga qual a taxa de juros (a taxa deve estar em valor decimal - entre 0 e 1):  0.1\n",
      "\n",
      "Por fim, atribua o prazo de investimento na mesma base de tempo que a taxa de juros descrita (a.a. ou a.m., por exemplo):  5\n"
     ]
    }
   ],
   "source": [
    "#Entrada de dados\n",
    "\n",
    "c = float(input(\"\\nOlá! Vamos calcular o retorno para seu investimento?? Comece digitando qual o capital inicial - em R$: \"))\n",
    "i = float(input(\"\\nAgora, me diga qual a taxa de juros (a taxa deve estar em valor decimal - entre 0 e 1): \"))\n",
    "t = float(input(\"\\nPor fim, atribua o prazo de investimento na mesma base de tempo que a taxa de juros descrita (a.a. ou a.m., por exemplo): \"))\n"
   ]
  },
  {
   "cell_type": "code",
   "execution_count": 20,
   "id": "9ec6182e-f888-4622-8308-4ecf55fffcc7",
   "metadata": {},
   "outputs": [],
   "source": [
    "# Processamento de dados\n",
    "\n",
    "#M=C⋅(1+i)^t\n",
    "\n",
    "M=c*((1+i)**t)\n",
    "\n"
   ]
  },
  {
   "cell_type": "code",
   "execution_count": 24,
   "id": "23ca565b-9252-4690-983f-980220c1d4f4",
   "metadata": {},
   "outputs": [
    {
     "name": "stdout",
     "output_type": "stream",
     "text": [
      "\n",
      "O valor capitalizado ao final do período será de R$1610.51\n"
     ]
    }
   ],
   "source": [
    "#Saida de dados\n",
    "\n",
    "print(f\"\\nO valor capitalizado ao final do período será de R${M:.2f}\")\n",
    "\n",
    "\n"
   ]
  },
  {
   "cell_type": "code",
   "execution_count": null,
   "id": "5963554e-b214-463f-820b-86e8ba70fe6c",
   "metadata": {},
   "outputs": [],
   "source": []
  }
 ],
 "metadata": {
  "kernelspec": {
   "display_name": "Python [conda env:base] *",
   "language": "python",
   "name": "conda-base-py"
  },
  "language_info": {
   "codemirror_mode": {
    "name": "ipython",
    "version": 3
   },
   "file_extension": ".py",
   "mimetype": "text/x-python",
   "name": "python",
   "nbconvert_exporter": "python",
   "pygments_lexer": "ipython3",
   "version": "3.12.7"
  }
 },
 "nbformat": 4,
 "nbformat_minor": 5
}
